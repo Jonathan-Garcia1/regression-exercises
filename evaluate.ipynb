{
 "cells": [
  {
   "cell_type": "markdown",
   "metadata": {},
   "source": [
    "<div class=\"alert alert-block alert-warning\">\n",
    "\n",
    "# Explore Exercises"
   ]
  },
  {
   "cell_type": "code",
   "execution_count": 1,
   "metadata": {},
   "outputs": [],
   "source": [
    "# Imports\n",
    "\n",
    "import pandas as pd\n",
    "import numpy as np\n",
    "\n",
    "import matplotlib.pyplot as plt\n",
    "import seaborn as sns\n",
    "\n",
    "from scipy import stats\n",
    "from math import sqrt\n",
    "\n",
    "from sklearn.linear_model import LinearRegression\n",
    "from sklearn.metrics import explained_variance_score\n",
    "\n",
    "from wrangle import acquire_zillow, get_zillow_data, wrangle_zillow, split_train_val_test\n",
    "\n",
    "from explore import plot_variable_pairs, plot_categorical_and_continuous_vars\n",
    "\n",
    "from evaluate import create_model, dataframe_model, plot_residuals, regression_errors, baseline_mean_errors, better_than_baseline\n",
    "\n",
    "import os"
   ]
  },
  {
   "cell_type": "markdown",
   "metadata": {},
   "source": [
    "<div class=\"alert alert-block alert-success\">\n",
    "\n",
    "Do you work for this exercise in either a jupyter notebook named evaluate within your regression-exercises repository. By the end of this exercise you will also create a python script named evaluate, so the overall deliverables for this exercise are the python script and jupyter notebook both with the name evaluate within your regression-exercises repo.\n"
   ]
  },
  {
   "cell_type": "markdown",
   "metadata": {},
   "source": [
    "<div class=\"alert alert-block alert-info\">\n",
    "\n",
    "1. Load your zillow dataset.\n"
   ]
  },
  {
   "cell_type": "code",
   "execution_count": 2,
   "metadata": {},
   "outputs": [
    {
     "data": {
      "text/plain": [
       "((1498164, 7), (321035, 7), (321036, 7))"
      ]
     },
     "execution_count": 2,
     "metadata": {},
     "output_type": "execute_result"
    }
   ],
   "source": [
    "df = get_zillow_data()\n",
    "df = wrangle_zillow(df)\n",
    "\n",
    "train, val, test = split_train_val_test(df)\n",
    "\n",
    "train.shape, val.shape, test.shape"
   ]
  },
  {
   "cell_type": "code",
   "execution_count": 3,
   "metadata": {},
   "outputs": [
    {
     "data": {
      "text/html": [
       "<div>\n",
       "<style scoped>\n",
       "    .dataframe tbody tr th:only-of-type {\n",
       "        vertical-align: middle;\n",
       "    }\n",
       "\n",
       "    .dataframe tbody tr th {\n",
       "        vertical-align: top;\n",
       "    }\n",
       "\n",
       "    .dataframe thead th {\n",
       "        text-align: right;\n",
       "    }\n",
       "</style>\n",
       "<table border=\"1\" class=\"dataframe\">\n",
       "  <thead>\n",
       "    <tr style=\"text-align: right;\">\n",
       "      <th></th>\n",
       "      <th>bedrooms</th>\n",
       "      <th>bathrooms</th>\n",
       "      <th>area</th>\n",
       "      <th>tax_value</th>\n",
       "      <th>year_built</th>\n",
       "      <th>taxamount</th>\n",
       "      <th>fips</th>\n",
       "    </tr>\n",
       "  </thead>\n",
       "  <tbody>\n",
       "    <tr>\n",
       "      <th>1007466</th>\n",
       "      <td>3</td>\n",
       "      <td>2.0</td>\n",
       "      <td>1452</td>\n",
       "      <td>241012</td>\n",
       "      <td>1980</td>\n",
       "      <td>2974.81</td>\n",
       "      <td>6037</td>\n",
       "    </tr>\n",
       "    <tr>\n",
       "      <th>615622</th>\n",
       "      <td>3</td>\n",
       "      <td>2.0</td>\n",
       "      <td>1262</td>\n",
       "      <td>235630</td>\n",
       "      <td>1953</td>\n",
       "      <td>3029.22</td>\n",
       "      <td>6037</td>\n",
       "    </tr>\n",
       "    <tr>\n",
       "      <th>662507</th>\n",
       "      <td>3</td>\n",
       "      <td>1.0</td>\n",
       "      <td>1447</td>\n",
       "      <td>435123</td>\n",
       "      <td>1947</td>\n",
       "      <td>5226.67</td>\n",
       "      <td>6037</td>\n",
       "    </tr>\n",
       "    <tr>\n",
       "      <th>840040</th>\n",
       "      <td>3</td>\n",
       "      <td>2.0</td>\n",
       "      <td>1403</td>\n",
       "      <td>268770</td>\n",
       "      <td>1965</td>\n",
       "      <td>2849.62</td>\n",
       "      <td>6111</td>\n",
       "    </tr>\n",
       "    <tr>\n",
       "      <th>243798</th>\n",
       "      <td>3</td>\n",
       "      <td>2.0</td>\n",
       "      <td>1456</td>\n",
       "      <td>365000</td>\n",
       "      <td>1961</td>\n",
       "      <td>4582.48</td>\n",
       "      <td>6037</td>\n",
       "    </tr>\n",
       "  </tbody>\n",
       "</table>\n",
       "</div>"
      ],
      "text/plain": [
       "         bedrooms  bathrooms  area  tax_value  year_built  taxamount  fips\n",
       "1007466         3        2.0  1452     241012        1980    2974.81  6037\n",
       "615622          3        2.0  1262     235630        1953    3029.22  6037\n",
       "662507          3        1.0  1447     435123        1947    5226.67  6037\n",
       "840040          3        2.0  1403     268770        1965    2849.62  6111\n",
       "243798          3        2.0  1456     365000        1961    4582.48  6037"
      ]
     },
     "execution_count": 3,
     "metadata": {},
     "output_type": "execute_result"
    }
   ],
   "source": [
    "train.head()"
   ]
  },
  {
   "cell_type": "markdown",
   "metadata": {},
   "source": [
    "<div class=\"alert alert-block alert-info\">\n",
    "\n",
    "2. Fit a linear regression model (ordinary least squares) and compute yhat, predictions of taxvaluedollarcnt using only calculatedfinishedsqft.\n",
    "\n",
    "Here is some sample code to get you started:\n",
    "\n",
    "from sklearn.linear_model import LinearRegression\n"
   ]
  },
  {
   "cell_type": "code",
   "execution_count": 4,
   "metadata": {},
   "outputs": [],
   "source": [
    "# split into subsets for train and val\n",
    "X_train = train[['area']]\n",
    "y_train = train.tax_value\n",
    "\n",
    "X_val = val[['area']]\n",
    "y_val = val.tax_value"
   ]
  },
  {
   "cell_type": "code",
   "execution_count": 5,
   "metadata": {},
   "outputs": [
    {
     "data": {
      "text/html": [
       "<div>\n",
       "<style scoped>\n",
       "    .dataframe tbody tr th:only-of-type {\n",
       "        vertical-align: middle;\n",
       "    }\n",
       "\n",
       "    .dataframe tbody tr th {\n",
       "        vertical-align: top;\n",
       "    }\n",
       "\n",
       "    .dataframe thead th {\n",
       "        text-align: right;\n",
       "    }\n",
       "</style>\n",
       "<table border=\"1\" class=\"dataframe\">\n",
       "  <thead>\n",
       "    <tr style=\"text-align: right;\">\n",
       "      <th></th>\n",
       "      <th>y_actual</th>\n",
       "      <th>y_baseline</th>\n",
       "    </tr>\n",
       "  </thead>\n",
       "  <tbody>\n",
       "    <tr>\n",
       "      <th>1007466</th>\n",
       "      <td>241012</td>\n",
       "      <td>328010.5</td>\n",
       "    </tr>\n",
       "    <tr>\n",
       "      <th>615622</th>\n",
       "      <td>235630</td>\n",
       "      <td>328010.5</td>\n",
       "    </tr>\n",
       "    <tr>\n",
       "      <th>662507</th>\n",
       "      <td>435123</td>\n",
       "      <td>328010.5</td>\n",
       "    </tr>\n",
       "    <tr>\n",
       "      <th>840040</th>\n",
       "      <td>268770</td>\n",
       "      <td>328010.5</td>\n",
       "    </tr>\n",
       "    <tr>\n",
       "      <th>243798</th>\n",
       "      <td>365000</td>\n",
       "      <td>328010.5</td>\n",
       "    </tr>\n",
       "  </tbody>\n",
       "</table>\n",
       "</div>"
      ],
      "text/plain": [
       "         y_actual  y_baseline\n",
       "1007466    241012    328010.5\n",
       "615622     235630    328010.5\n",
       "662507     435123    328010.5\n",
       "840040     268770    328010.5\n",
       "243798     365000    328010.5"
      ]
     },
     "execution_count": 5,
     "metadata": {},
     "output_type": "execute_result"
    }
   ],
   "source": [
    "# Since we have no way of knowing if the median or the mean performs better, we'll use the median.\n",
    "#y_train.median()\n",
    "\n",
    "preds = pd.DataFrame({'y_actual': y_train,\n",
    "                      'y_baseline': y_train.median()})\n",
    "\n",
    "preds.head()"
   ]
  },
  {
   "cell_type": "code",
   "execution_count": 6,
   "metadata": {},
   "outputs": [
    {
     "data": {
      "text/html": [
       "<div>\n",
       "<style scoped>\n",
       "    .dataframe tbody tr th:only-of-type {\n",
       "        vertical-align: middle;\n",
       "    }\n",
       "\n",
       "    .dataframe tbody tr th {\n",
       "        vertical-align: top;\n",
       "    }\n",
       "\n",
       "    .dataframe thead th {\n",
       "        text-align: right;\n",
       "    }\n",
       "</style>\n",
       "<table border=\"1\" class=\"dataframe\">\n",
       "  <thead>\n",
       "    <tr style=\"text-align: right;\">\n",
       "      <th></th>\n",
       "      <th>y_actual</th>\n",
       "      <th>y_baseline</th>\n",
       "      <th>y_baseline_minus_mean</th>\n",
       "    </tr>\n",
       "  </thead>\n",
       "  <tbody>\n",
       "    <tr>\n",
       "      <th>1007466</th>\n",
       "      <td>241012</td>\n",
       "      <td>328010.5</td>\n",
       "      <td>-132489.819855</td>\n",
       "    </tr>\n",
       "    <tr>\n",
       "      <th>615622</th>\n",
       "      <td>235630</td>\n",
       "      <td>328010.5</td>\n",
       "      <td>-132489.819855</td>\n",
       "    </tr>\n",
       "    <tr>\n",
       "      <th>662507</th>\n",
       "      <td>435123</td>\n",
       "      <td>328010.5</td>\n",
       "      <td>-132489.819855</td>\n",
       "    </tr>\n",
       "    <tr>\n",
       "      <th>840040</th>\n",
       "      <td>268770</td>\n",
       "      <td>328010.5</td>\n",
       "      <td>-132489.819855</td>\n",
       "    </tr>\n",
       "    <tr>\n",
       "      <th>243798</th>\n",
       "      <td>365000</td>\n",
       "      <td>328010.5</td>\n",
       "      <td>-132489.819855</td>\n",
       "    </tr>\n",
       "  </tbody>\n",
       "</table>\n",
       "</div>"
      ],
      "text/plain": [
       "         y_actual  y_baseline  y_baseline_minus_mean\n",
       "1007466    241012    328010.5         -132489.819855\n",
       "615622     235630    328010.5         -132489.819855\n",
       "662507     435123    328010.5         -132489.819855\n",
       "840040     268770    328010.5         -132489.819855\n",
       "243798     365000    328010.5         -132489.819855"
      ]
     },
     "execution_count": 6,
     "metadata": {},
     "output_type": "execute_result"
    }
   ],
   "source": [
    "preds['y_baseline_minus_mean'] = preds['y_baseline'] - preds['y_actual'].mean()\n",
    "preds.head()"
   ]
  },
  {
   "cell_type": "code",
   "execution_count": 7,
   "metadata": {},
   "outputs": [],
   "source": [
    "# set model varible to log ref.\n",
    "#model = LinearRegression()\n",
    "\n",
    "# fit the model\n",
    "#lr.fit(X_train, y_train)\n",
    "\n",
    "# assign the model and fit model\n",
    "lr = LinearRegression().fit(X_train, y_train)\n",
    "\n",
    "#save predictions\n",
    "preds['y_hat'] = lr.predict(X_train)"
   ]
  },
  {
   "cell_type": "markdown",
   "metadata": {},
   "source": [
    "<div class=\"alert alert-block alert-info\">\n",
    "\n",
    "3. Plot the residuals for the linear regression model that you made.\n"
   ]
  },
  {
   "cell_type": "code",
   "execution_count": 8,
   "metadata": {},
   "outputs": [
    {
     "data": {
      "text/html": [
       "<div>\n",
       "<style scoped>\n",
       "    .dataframe tbody tr th:only-of-type {\n",
       "        vertical-align: middle;\n",
       "    }\n",
       "\n",
       "    .dataframe tbody tr th {\n",
       "        vertical-align: top;\n",
       "    }\n",
       "\n",
       "    .dataframe thead th {\n",
       "        text-align: right;\n",
       "    }\n",
       "</style>\n",
       "<table border=\"1\" class=\"dataframe\">\n",
       "  <thead>\n",
       "    <tr style=\"text-align: right;\">\n",
       "      <th></th>\n",
       "      <th>y_actual</th>\n",
       "      <th>y_baseline</th>\n",
       "      <th>y_baseline_minus_mean</th>\n",
       "      <th>y_hat</th>\n",
       "      <th>y_hat_resids</th>\n",
       "    </tr>\n",
       "  </thead>\n",
       "  <tbody>\n",
       "    <tr>\n",
       "      <th>1007466</th>\n",
       "      <td>241012</td>\n",
       "      <td>328010.5</td>\n",
       "      <td>-132489.819855</td>\n",
       "      <td>364907.314578</td>\n",
       "      <td>123895.314578</td>\n",
       "    </tr>\n",
       "    <tr>\n",
       "      <th>615622</th>\n",
       "      <td>235630</td>\n",
       "      <td>328010.5</td>\n",
       "      <td>-132489.819855</td>\n",
       "      <td>320717.233800</td>\n",
       "      <td>85087.233800</td>\n",
       "    </tr>\n",
       "    <tr>\n",
       "      <th>662507</th>\n",
       "      <td>435123</td>\n",
       "      <td>328010.5</td>\n",
       "      <td>-132489.819855</td>\n",
       "      <td>363744.417716</td>\n",
       "      <td>-71378.582284</td>\n",
       "    </tr>\n",
       "    <tr>\n",
       "      <th>840040</th>\n",
       "      <td>268770</td>\n",
       "      <td>328010.5</td>\n",
       "      <td>-132489.819855</td>\n",
       "      <td>353510.925325</td>\n",
       "      <td>84740.925325</td>\n",
       "    </tr>\n",
       "    <tr>\n",
       "      <th>243798</th>\n",
       "      <td>365000</td>\n",
       "      <td>328010.5</td>\n",
       "      <td>-132489.819855</td>\n",
       "      <td>365837.632068</td>\n",
       "      <td>837.632068</td>\n",
       "    </tr>\n",
       "  </tbody>\n",
       "</table>\n",
       "</div>"
      ],
      "text/plain": [
       "         y_actual  y_baseline  y_baseline_minus_mean          y_hat  \\\n",
       "1007466    241012    328010.5         -132489.819855  364907.314578   \n",
       "615622     235630    328010.5         -132489.819855  320717.233800   \n",
       "662507     435123    328010.5         -132489.819855  363744.417716   \n",
       "840040     268770    328010.5         -132489.819855  353510.925325   \n",
       "243798     365000    328010.5         -132489.819855  365837.632068   \n",
       "\n",
       "          y_hat_resids  \n",
       "1007466  123895.314578  \n",
       "615622    85087.233800  \n",
       "662507   -71378.582284  \n",
       "840040    84740.925325  \n",
       "243798      837.632068  "
      ]
     },
     "execution_count": 8,
     "metadata": {},
     "output_type": "execute_result"
    }
   ],
   "source": [
    "# y-hat resids calc\n",
    "# for SSE we calculate the residuals of the predictions minus(-) the actual home values\n",
    "preds['y_hat_resids'] = preds['y_hat'] - preds['y_actual']\n",
    "\n",
    "preds.head()"
   ]
  },
  {
   "cell_type": "code",
   "execution_count": 9,
   "metadata": {},
   "outputs": [
    {
     "data": {
      "image/png": "[encoded data removed]",
      "text/plain": [
       "<Figure size 640x480 with 1 Axes>"
      ]
     },
     "metadata": {},
     "output_type": "display_data"
    }
   ],
   "source": [
    "sns.scatterplot(data = preds, x = 'y_actual', y = 'y_hat_resids')\n",
    "plt.show()"
   ]
  },
  {
   "cell_type": "markdown",
   "metadata": {},
   "source": [
    "<div class=\"alert alert-block alert-info\">\n",
    "\n",
    "4. Calculate the sum of squared errors (SSE), explained sum of squares (ESS), total sum of squares (TSS), mean squared error (MSE), and root mean squared error (RSME) for your model.\n"
   ]
  },
  {
   "cell_type": "markdown",
   "metadata": {},
   "source": [
    "Sum of Squared Errors (SSE)\n",
    "\n",
    "SSE = the sum of all the residuals"
   ]
  },
  {
   "cell_type": "code",
   "execution_count": 10,
   "metadata": {},
   "outputs": [
    {
     "data": {
      "text/html": [
       "<div>\n",
       "<style scoped>\n",
       "    .dataframe tbody tr th:only-of-type {\n",
       "        vertical-align: middle;\n",
       "    }\n",
       "\n",
       "    .dataframe tbody tr th {\n",
       "        vertical-align: top;\n",
       "    }\n",
       "\n",
       "    .dataframe thead th {\n",
       "        text-align: right;\n",
       "    }\n",
       "</style>\n",
       "<table border=\"1\" class=\"dataframe\">\n",
       "  <thead>\n",
       "    <tr style=\"text-align: right;\">\n",
       "      <th></th>\n",
       "      <th>y_actual</th>\n",
       "      <th>y_baseline</th>\n",
       "      <th>y_baseline_minus_mean</th>\n",
       "      <th>y_hat</th>\n",
       "      <th>y_hat_resids</th>\n",
       "    </tr>\n",
       "  </thead>\n",
       "  <tbody>\n",
       "    <tr>\n",
       "      <th>1007466</th>\n",
       "      <td>241012</td>\n",
       "      <td>328010.5</td>\n",
       "      <td>-132489.819855</td>\n",
       "      <td>364907.314578</td>\n",
       "      <td>123895.314578</td>\n",
       "    </tr>\n",
       "    <tr>\n",
       "      <th>615622</th>\n",
       "      <td>235630</td>\n",
       "      <td>328010.5</td>\n",
       "      <td>-132489.819855</td>\n",
       "      <td>320717.233800</td>\n",
       "      <td>85087.233800</td>\n",
       "    </tr>\n",
       "    <tr>\n",
       "      <th>662507</th>\n",
       "      <td>435123</td>\n",
       "      <td>328010.5</td>\n",
       "      <td>-132489.819855</td>\n",
       "      <td>363744.417716</td>\n",
       "      <td>-71378.582284</td>\n",
       "    </tr>\n",
       "    <tr>\n",
       "      <th>840040</th>\n",
       "      <td>268770</td>\n",
       "      <td>328010.5</td>\n",
       "      <td>-132489.819855</td>\n",
       "      <td>353510.925325</td>\n",
       "      <td>84740.925325</td>\n",
       "    </tr>\n",
       "    <tr>\n",
       "      <th>243798</th>\n",
       "      <td>365000</td>\n",
       "      <td>328010.5</td>\n",
       "      <td>-132489.819855</td>\n",
       "      <td>365837.632068</td>\n",
       "      <td>837.632068</td>\n",
       "    </tr>\n",
       "  </tbody>\n",
       "</table>\n",
       "</div>"
      ],
      "text/plain": [
       "         y_actual  y_baseline  y_baseline_minus_mean          y_hat  \\\n",
       "1007466    241012    328010.5         -132489.819855  364907.314578   \n",
       "615622     235630    328010.5         -132489.819855  320717.233800   \n",
       "662507     435123    328010.5         -132489.819855  363744.417716   \n",
       "840040     268770    328010.5         -132489.819855  353510.925325   \n",
       "243798     365000    328010.5         -132489.819855  365837.632068   \n",
       "\n",
       "          y_hat_resids  \n",
       "1007466  123895.314578  \n",
       "615622    85087.233800  \n",
       "662507   -71378.582284  \n",
       "840040    84740.925325  \n",
       "243798      837.632068  "
      ]
     },
     "execution_count": 10,
     "metadata": {},
     "output_type": "execute_result"
    }
   ],
   "source": [
    "# y-hat resids calc\n",
    "# for SSE we calculate the residuals of the predictions minus(-) the actual home values\n",
    "preds['y_hat_resids'] = preds['y_hat'] - preds['y_actual']\n",
    "\n",
    "preds.head()"
   ]
  },
  {
   "cell_type": "code",
   "execution_count": 11,
   "metadata": {},
   "outputs": [
    {
     "data": {
      "text/html": [
       "<div>\n",
       "<style scoped>\n",
       "    .dataframe tbody tr th:only-of-type {\n",
       "        vertical-align: middle;\n",
       "    }\n",
       "\n",
       "    .dataframe tbody tr th {\n",
       "        vertical-align: top;\n",
       "    }\n",
       "\n",
       "    .dataframe thead th {\n",
       "        text-align: right;\n",
       "    }\n",
       "</style>\n",
       "<table border=\"1\" class=\"dataframe\">\n",
       "  <thead>\n",
       "    <tr style=\"text-align: right;\">\n",
       "      <th></th>\n",
       "      <th>y_actual</th>\n",
       "      <th>y_baseline</th>\n",
       "      <th>y_baseline_minus_mean</th>\n",
       "      <th>y_hat</th>\n",
       "      <th>y_hat_resids</th>\n",
       "      <th>y_hat_resids_sq</th>\n",
       "    </tr>\n",
       "  </thead>\n",
       "  <tbody>\n",
       "    <tr>\n",
       "      <th>1007466</th>\n",
       "      <td>241012</td>\n",
       "      <td>328010.5</td>\n",
       "      <td>-132489.819855</td>\n",
       "      <td>364907.314578</td>\n",
       "      <td>123895.314578</td>\n",
       "      <td>1.535005e+10</td>\n",
       "    </tr>\n",
       "    <tr>\n",
       "      <th>615622</th>\n",
       "      <td>235630</td>\n",
       "      <td>328010.5</td>\n",
       "      <td>-132489.819855</td>\n",
       "      <td>320717.233800</td>\n",
       "      <td>85087.233800</td>\n",
       "      <td>7.239837e+09</td>\n",
       "    </tr>\n",
       "    <tr>\n",
       "      <th>662507</th>\n",
       "      <td>435123</td>\n",
       "      <td>328010.5</td>\n",
       "      <td>-132489.819855</td>\n",
       "      <td>363744.417716</td>\n",
       "      <td>-71378.582284</td>\n",
       "      <td>5.094902e+09</td>\n",
       "    </tr>\n",
       "    <tr>\n",
       "      <th>840040</th>\n",
       "      <td>268770</td>\n",
       "      <td>328010.5</td>\n",
       "      <td>-132489.819855</td>\n",
       "      <td>353510.925325</td>\n",
       "      <td>84740.925325</td>\n",
       "      <td>7.181024e+09</td>\n",
       "    </tr>\n",
       "    <tr>\n",
       "      <th>243798</th>\n",
       "      <td>365000</td>\n",
       "      <td>328010.5</td>\n",
       "      <td>-132489.819855</td>\n",
       "      <td>365837.632068</td>\n",
       "      <td>837.632068</td>\n",
       "      <td>7.016275e+05</td>\n",
       "    </tr>\n",
       "  </tbody>\n",
       "</table>\n",
       "</div>"
      ],
      "text/plain": [
       "         y_actual  y_baseline  y_baseline_minus_mean          y_hat  \\\n",
       "1007466    241012    328010.5         -132489.819855  364907.314578   \n",
       "615622     235630    328010.5         -132489.819855  320717.233800   \n",
       "662507     435123    328010.5         -132489.819855  363744.417716   \n",
       "840040     268770    328010.5         -132489.819855  353510.925325   \n",
       "243798     365000    328010.5         -132489.819855  365837.632068   \n",
       "\n",
       "          y_hat_resids  y_hat_resids_sq  \n",
       "1007466  123895.314578     1.535005e+10  \n",
       "615622    85087.233800     7.239837e+09  \n",
       "662507   -71378.582284     5.094902e+09  \n",
       "840040    84740.925325     7.181024e+09  \n",
       "243798      837.632068     7.016275e+05  "
      ]
     },
     "execution_count": 11,
     "metadata": {},
     "output_type": "execute_result"
    }
   ],
   "source": [
    "# Now we square said residuals\n",
    "preds['y_hat_resids_sq'] = preds['y_hat_resids'] ** 2\n",
    "preds.head()"
   ]
  },
  {
   "cell_type": "code",
   "execution_count": 12,
   "metadata": {},
   "outputs": [
    {
     "data": {
      "text/plain": [
       "5.52302163507663e+17"
      ]
     },
     "execution_count": 12,
     "metadata": {},
     "output_type": "execute_result"
    }
   ],
   "source": [
    "# Then we add all the squared residuals to get the SSE\n",
    "sse_model = preds['y_hat_resids_sq'].sum()\n",
    "sse_model"
   ]
  },
  {
   "cell_type": "markdown",
   "metadata": {},
   "source": [
    "Explained Sum of Squares (ESS)\n",
    "\n",
    "ESS = The sum of (model prediction minus(-) the mean of actual home value)"
   ]
  },
  {
   "cell_type": "code",
   "execution_count": 13,
   "metadata": {},
   "outputs": [
    {
     "data": {
      "text/html": [
       "<div>\n",
       "<style scoped>\n",
       "    .dataframe tbody tr th:only-of-type {\n",
       "        vertical-align: middle;\n",
       "    }\n",
       "\n",
       "    .dataframe tbody tr th {\n",
       "        vertical-align: top;\n",
       "    }\n",
       "\n",
       "    .dataframe thead th {\n",
       "        text-align: right;\n",
       "    }\n",
       "</style>\n",
       "<table border=\"1\" class=\"dataframe\">\n",
       "  <thead>\n",
       "    <tr style=\"text-align: right;\">\n",
       "      <th></th>\n",
       "      <th>y_actual</th>\n",
       "      <th>y_baseline</th>\n",
       "      <th>y_baseline_minus_mean</th>\n",
       "      <th>y_hat</th>\n",
       "      <th>y_hat_resids</th>\n",
       "      <th>y_hat_resids_sq</th>\n",
       "      <th>y_hat_minus_mean</th>\n",
       "    </tr>\n",
       "  </thead>\n",
       "  <tbody>\n",
       "    <tr>\n",
       "      <th>1007466</th>\n",
       "      <td>241012</td>\n",
       "      <td>328010.5</td>\n",
       "      <td>-132489.819855</td>\n",
       "      <td>364907.314578</td>\n",
       "      <td>123895.314578</td>\n",
       "      <td>1.535005e+10</td>\n",
       "      <td>-95593.005277</td>\n",
       "    </tr>\n",
       "    <tr>\n",
       "      <th>615622</th>\n",
       "      <td>235630</td>\n",
       "      <td>328010.5</td>\n",
       "      <td>-132489.819855</td>\n",
       "      <td>320717.233800</td>\n",
       "      <td>85087.233800</td>\n",
       "      <td>7.239837e+09</td>\n",
       "      <td>-139783.086055</td>\n",
       "    </tr>\n",
       "    <tr>\n",
       "      <th>662507</th>\n",
       "      <td>435123</td>\n",
       "      <td>328010.5</td>\n",
       "      <td>-132489.819855</td>\n",
       "      <td>363744.417716</td>\n",
       "      <td>-71378.582284</td>\n",
       "      <td>5.094902e+09</td>\n",
       "      <td>-96755.902139</td>\n",
       "    </tr>\n",
       "    <tr>\n",
       "      <th>840040</th>\n",
       "      <td>268770</td>\n",
       "      <td>328010.5</td>\n",
       "      <td>-132489.819855</td>\n",
       "      <td>353510.925325</td>\n",
       "      <td>84740.925325</td>\n",
       "      <td>7.181024e+09</td>\n",
       "      <td>-106989.394530</td>\n",
       "    </tr>\n",
       "    <tr>\n",
       "      <th>243798</th>\n",
       "      <td>365000</td>\n",
       "      <td>328010.5</td>\n",
       "      <td>-132489.819855</td>\n",
       "      <td>365837.632068</td>\n",
       "      <td>837.632068</td>\n",
       "      <td>7.016275e+05</td>\n",
       "      <td>-94662.687787</td>\n",
       "    </tr>\n",
       "  </tbody>\n",
       "</table>\n",
       "</div>"
      ],
      "text/plain": [
       "         y_actual  y_baseline  y_baseline_minus_mean          y_hat  \\\n",
       "1007466    241012    328010.5         -132489.819855  364907.314578   \n",
       "615622     235630    328010.5         -132489.819855  320717.233800   \n",
       "662507     435123    328010.5         -132489.819855  363744.417716   \n",
       "840040     268770    328010.5         -132489.819855  353510.925325   \n",
       "243798     365000    328010.5         -132489.819855  365837.632068   \n",
       "\n",
       "          y_hat_resids  y_hat_resids_sq  y_hat_minus_mean  \n",
       "1007466  123895.314578     1.535005e+10     -95593.005277  \n",
       "615622    85087.233800     7.239837e+09    -139783.086055  \n",
       "662507   -71378.582284     5.094902e+09     -96755.902139  \n",
       "840040    84740.925325     7.181024e+09    -106989.394530  \n",
       "243798      837.632068     7.016275e+05     -94662.687787  "
      ]
     },
     "execution_count": 13,
     "metadata": {},
     "output_type": "execute_result"
    }
   ],
   "source": [
    "# first lets calculate the prediction minus(-) actual\n",
    "preds['y_hat_minus_mean'] = preds['y_hat'] - preds['y_actual'].mean()\n",
    "preds.head()"
   ]
  },
  {
   "cell_type": "code",
   "execution_count": 14,
   "metadata": {},
   "outputs": [
    {
     "data": {
      "text/plain": [
       "1.4003456268381235e+17"
      ]
     },
     "execution_count": 14,
     "metadata": {},
     "output_type": "execute_result"
    }
   ],
   "source": [
    "# lets add the new column then square it to get ESS\n",
    "ess_model = sum(preds['y_hat_minus_mean'] ** 2)\n",
    "ess_model"
   ]
  },
  {
   "cell_type": "markdown",
   "metadata": {},
   "source": [
    "Total Sum of Squares (TSS)\n",
    "\n",
    "TSS = sum of (actual home value (-) mean of all actual values)\n",
    "\n",
    "Alternate TSS calculation\n",
    "\n",
    "TSS = SSE + ESS"
   ]
  },
  {
   "cell_type": "code",
   "execution_count": 15,
   "metadata": {},
   "outputs": [
    {
     "data": {
      "text/plain": [
       "6.923367261914753e+17"
      ]
     },
     "execution_count": 15,
     "metadata": {},
     "output_type": "execute_result"
    }
   ],
   "source": [
    "tss_model = sse_model + ess_model\n",
    "tss_model"
   ]
  },
  {
   "cell_type": "markdown",
   "metadata": {},
   "source": [
    "Mean Squared Error (MSE)\n",
    "\n",
    "Divide SSE by number of observations"
   ]
  },
  {
   "cell_type": "code",
   "execution_count": 16,
   "metadata": {},
   "outputs": [
    {
     "data": {
      "text/plain": [
       "258056785122.97153"
      ]
     },
     "execution_count": 16,
     "metadata": {},
     "output_type": "execute_result"
    }
   ],
   "source": [
    "mse_model = sse_model/len(df)\n",
    "mse_model"
   ]
  },
  {
   "cell_type": "markdown",
   "metadata": {},
   "source": [
    "Root Mean Squared Error (RMSE)\n",
    "\n"
   ]
  },
  {
   "cell_type": "code",
   "execution_count": 17,
   "metadata": {},
   "outputs": [
    {
     "data": {
      "text/plain": [
       "507992.8986934478"
      ]
     },
     "execution_count": 17,
     "metadata": {},
     "output_type": "execute_result"
    }
   ],
   "source": [
    "rmse_model = sqrt(mse_model)\n",
    "rmse_model"
   ]
  },
  {
   "cell_type": "markdown",
   "metadata": {},
   "source": [
    "<div class=\"alert alert-block alert-info\">\n",
    "\n",
    "5. Calculate the sum of squared errors (SSE), mean squared error (MSE), and root mean squared error (RMSE) for the baseline model (i.e. a model that always predicts the average taxvaluedollarcnt amount).\n"
   ]
  },
  {
   "cell_type": "code",
   "execution_count": 18,
   "metadata": {},
   "outputs": [
    {
     "data": {
      "text/html": [
       "<div>\n",
       "<style scoped>\n",
       "    .dataframe tbody tr th:only-of-type {\n",
       "        vertical-align: middle;\n",
       "    }\n",
       "\n",
       "    .dataframe tbody tr th {\n",
       "        vertical-align: top;\n",
       "    }\n",
       "\n",
       "    .dataframe thead th {\n",
       "        text-align: right;\n",
       "    }\n",
       "</style>\n",
       "<table border=\"1\" class=\"dataframe\">\n",
       "  <thead>\n",
       "    <tr style=\"text-align: right;\">\n",
       "      <th></th>\n",
       "      <th>y_actual</th>\n",
       "      <th>y_baseline</th>\n",
       "      <th>y_baseline_minus_mean</th>\n",
       "      <th>y_hat</th>\n",
       "      <th>y_hat_resids</th>\n",
       "      <th>y_hat_resids_sq</th>\n",
       "      <th>y_hat_minus_mean</th>\n",
       "      <th>y_baseline_resids</th>\n",
       "    </tr>\n",
       "  </thead>\n",
       "  <tbody>\n",
       "    <tr>\n",
       "      <th>1007466</th>\n",
       "      <td>241012</td>\n",
       "      <td>328010.5</td>\n",
       "      <td>-132489.819855</td>\n",
       "      <td>364907.314578</td>\n",
       "      <td>123895.314578</td>\n",
       "      <td>1.535005e+10</td>\n",
       "      <td>-95593.005277</td>\n",
       "      <td>86998.5</td>\n",
       "    </tr>\n",
       "    <tr>\n",
       "      <th>615622</th>\n",
       "      <td>235630</td>\n",
       "      <td>328010.5</td>\n",
       "      <td>-132489.819855</td>\n",
       "      <td>320717.233800</td>\n",
       "      <td>85087.233800</td>\n",
       "      <td>7.239837e+09</td>\n",
       "      <td>-139783.086055</td>\n",
       "      <td>92380.5</td>\n",
       "    </tr>\n",
       "    <tr>\n",
       "      <th>662507</th>\n",
       "      <td>435123</td>\n",
       "      <td>328010.5</td>\n",
       "      <td>-132489.819855</td>\n",
       "      <td>363744.417716</td>\n",
       "      <td>-71378.582284</td>\n",
       "      <td>5.094902e+09</td>\n",
       "      <td>-96755.902139</td>\n",
       "      <td>-107112.5</td>\n",
       "    </tr>\n",
       "    <tr>\n",
       "      <th>840040</th>\n",
       "      <td>268770</td>\n",
       "      <td>328010.5</td>\n",
       "      <td>-132489.819855</td>\n",
       "      <td>353510.925325</td>\n",
       "      <td>84740.925325</td>\n",
       "      <td>7.181024e+09</td>\n",
       "      <td>-106989.394530</td>\n",
       "      <td>59240.5</td>\n",
       "    </tr>\n",
       "    <tr>\n",
       "      <th>243798</th>\n",
       "      <td>365000</td>\n",
       "      <td>328010.5</td>\n",
       "      <td>-132489.819855</td>\n",
       "      <td>365837.632068</td>\n",
       "      <td>837.632068</td>\n",
       "      <td>7.016275e+05</td>\n",
       "      <td>-94662.687787</td>\n",
       "      <td>-36989.5</td>\n",
       "    </tr>\n",
       "  </tbody>\n",
       "</table>\n",
       "</div>"
      ],
      "text/plain": [
       "         y_actual  y_baseline  y_baseline_minus_mean          y_hat  \\\n",
       "1007466    241012    328010.5         -132489.819855  364907.314578   \n",
       "615622     235630    328010.5         -132489.819855  320717.233800   \n",
       "662507     435123    328010.5         -132489.819855  363744.417716   \n",
       "840040     268770    328010.5         -132489.819855  353510.925325   \n",
       "243798     365000    328010.5         -132489.819855  365837.632068   \n",
       "\n",
       "          y_hat_resids  y_hat_resids_sq  y_hat_minus_mean  y_baseline_resids  \n",
       "1007466  123895.314578     1.535005e+10     -95593.005277            86998.5  \n",
       "615622    85087.233800     7.239837e+09    -139783.086055            92380.5  \n",
       "662507   -71378.582284     5.094902e+09     -96755.902139          -107112.5  \n",
       "840040    84740.925325     7.181024e+09    -106989.394530            59240.5  \n",
       "243798      837.632068     7.016275e+05     -94662.687787           -36989.5  "
      ]
     },
     "execution_count": 18,
     "metadata": {},
     "output_type": "execute_result"
    }
   ],
   "source": [
    "preds['y_baseline_resids'] = preds['y_baseline'] - preds['y_actual']\n",
    "preds.head()"
   ]
  },
  {
   "cell_type": "code",
   "execution_count": 19,
   "metadata": {},
   "outputs": [
    {
     "data": {
      "text/html": [
       "<div>\n",
       "<style scoped>\n",
       "    .dataframe tbody tr th:only-of-type {\n",
       "        vertical-align: middle;\n",
       "    }\n",
       "\n",
       "    .dataframe tbody tr th {\n",
       "        vertical-align: top;\n",
       "    }\n",
       "\n",
       "    .dataframe thead th {\n",
       "        text-align: right;\n",
       "    }\n",
       "</style>\n",
       "<table border=\"1\" class=\"dataframe\">\n",
       "  <thead>\n",
       "    <tr style=\"text-align: right;\">\n",
       "      <th></th>\n",
       "      <th>y_actual</th>\n",
       "      <th>y_baseline</th>\n",
       "      <th>y_baseline_minus_mean</th>\n",
       "      <th>y_hat</th>\n",
       "      <th>y_hat_resids</th>\n",
       "      <th>y_hat_resids_sq</th>\n",
       "      <th>y_hat_minus_mean</th>\n",
       "      <th>y_baseline_resids</th>\n",
       "      <th>y_baseline_resids_sq</th>\n",
       "    </tr>\n",
       "  </thead>\n",
       "  <tbody>\n",
       "    <tr>\n",
       "      <th>1007466</th>\n",
       "      <td>241012</td>\n",
       "      <td>328010.5</td>\n",
       "      <td>-132489.819855</td>\n",
       "      <td>364907.314578</td>\n",
       "      <td>123895.314578</td>\n",
       "      <td>1.535005e+10</td>\n",
       "      <td>-95593.005277</td>\n",
       "      <td>86998.5</td>\n",
       "      <td>7.568739e+09</td>\n",
       "    </tr>\n",
       "    <tr>\n",
       "      <th>615622</th>\n",
       "      <td>235630</td>\n",
       "      <td>328010.5</td>\n",
       "      <td>-132489.819855</td>\n",
       "      <td>320717.233800</td>\n",
       "      <td>85087.233800</td>\n",
       "      <td>7.239837e+09</td>\n",
       "      <td>-139783.086055</td>\n",
       "      <td>92380.5</td>\n",
       "      <td>8.534157e+09</td>\n",
       "    </tr>\n",
       "    <tr>\n",
       "      <th>662507</th>\n",
       "      <td>435123</td>\n",
       "      <td>328010.5</td>\n",
       "      <td>-132489.819855</td>\n",
       "      <td>363744.417716</td>\n",
       "      <td>-71378.582284</td>\n",
       "      <td>5.094902e+09</td>\n",
       "      <td>-96755.902139</td>\n",
       "      <td>-107112.5</td>\n",
       "      <td>1.147309e+10</td>\n",
       "    </tr>\n",
       "    <tr>\n",
       "      <th>840040</th>\n",
       "      <td>268770</td>\n",
       "      <td>328010.5</td>\n",
       "      <td>-132489.819855</td>\n",
       "      <td>353510.925325</td>\n",
       "      <td>84740.925325</td>\n",
       "      <td>7.181024e+09</td>\n",
       "      <td>-106989.394530</td>\n",
       "      <td>59240.5</td>\n",
       "      <td>3.509437e+09</td>\n",
       "    </tr>\n",
       "    <tr>\n",
       "      <th>243798</th>\n",
       "      <td>365000</td>\n",
       "      <td>328010.5</td>\n",
       "      <td>-132489.819855</td>\n",
       "      <td>365837.632068</td>\n",
       "      <td>837.632068</td>\n",
       "      <td>7.016275e+05</td>\n",
       "      <td>-94662.687787</td>\n",
       "      <td>-36989.5</td>\n",
       "      <td>1.368223e+09</td>\n",
       "    </tr>\n",
       "  </tbody>\n",
       "</table>\n",
       "</div>"
      ],
      "text/plain": [
       "         y_actual  y_baseline  y_baseline_minus_mean          y_hat  \\\n",
       "1007466    241012    328010.5         -132489.819855  364907.314578   \n",
       "615622     235630    328010.5         -132489.819855  320717.233800   \n",
       "662507     435123    328010.5         -132489.819855  363744.417716   \n",
       "840040     268770    328010.5         -132489.819855  353510.925325   \n",
       "243798     365000    328010.5         -132489.819855  365837.632068   \n",
       "\n",
       "          y_hat_resids  y_hat_resids_sq  y_hat_minus_mean  y_baseline_resids  \\\n",
       "1007466  123895.314578     1.535005e+10     -95593.005277            86998.5   \n",
       "615622    85087.233800     7.239837e+09    -139783.086055            92380.5   \n",
       "662507   -71378.582284     5.094902e+09     -96755.902139          -107112.5   \n",
       "840040    84740.925325     7.181024e+09    -106989.394530            59240.5   \n",
       "243798      837.632068     7.016275e+05     -94662.687787           -36989.5   \n",
       "\n",
       "         y_baseline_resids_sq  \n",
       "1007466          7.568739e+09  \n",
       "615622           8.534157e+09  \n",
       "662507           1.147309e+10  \n",
       "840040           3.509437e+09  \n",
       "243798           1.368223e+09  "
      ]
     },
     "execution_count": 19,
     "metadata": {},
     "output_type": "execute_result"
    }
   ],
   "source": [
    "preds['y_baseline_resids_sq'] = preds['y_baseline_resids'] ** 2\n",
    "preds.head()"
   ]
  },
  {
   "cell_type": "code",
   "execution_count": 20,
   "metadata": {},
   "outputs": [
    {
     "data": {
      "text/plain": [
       "7.186348264170656e+17"
      ]
     },
     "execution_count": 20,
     "metadata": {},
     "output_type": "execute_result"
    }
   ],
   "source": [
    "sse_baseline = preds['y_baseline_resids_sq'].sum()\n",
    "sse_baseline"
   ]
  },
  {
   "cell_type": "code",
   "execution_count": 21,
   "metadata": {},
   "outputs": [
    {
     "data": {
      "text/plain": [
       "479677008936.9826"
      ]
     },
     "execution_count": 21,
     "metadata": {},
     "output_type": "execute_result"
    }
   ],
   "source": [
    "mse_baseline = sse_baseline / len(preds)\n",
    "mse_baseline"
   ]
  },
  {
   "cell_type": "code",
   "execution_count": 22,
   "metadata": {},
   "outputs": [
    {
     "data": {
      "text/plain": [
       "692587.1850799599"
      ]
     },
     "execution_count": 22,
     "metadata": {},
     "output_type": "execute_result"
    }
   ],
   "source": [
    "rmse_baseline = sqrt(mse_baseline)\n",
    "rmse_baseline"
   ]
  },
  {
   "cell_type": "markdown",
   "metadata": {},
   "source": [
    "<div class=\"alert alert-block alert-info\">\n",
    "\n",
    "6. Write python code that compares the sum of squared errors for your model against the sum of squared errors for the baseline model and outputs whether or not your model performs better than the baseline model.\n"
   ]
  },
  {
   "cell_type": "code",
   "execution_count": 23,
   "metadata": {},
   "outputs": [
    {
     "name": "stdout",
     "output_type": "stream",
     "text": [
      "Good, SSE of our finely tuned model: 552302163507662976 beat the baseline 718634826417065600\n"
     ]
    }
   ],
   "source": [
    "if sse_baseline > sse_model:\n",
    "    print(f'Good, SSE of our finely tuned model: {round(sse_model)} beat the baseline {round(sse_baseline)}')\n",
    "else:\n",
    "    print(f'Bad, SSE of our baseline: {round(sse_baseline)} beat the tuned model: {round(sse_model)}')"
   ]
  },
  {
   "cell_type": "markdown",
   "metadata": {},
   "source": [
    "<div class=\"alert alert-block alert-info\">\n",
    "\n",
    "7. What is the amount of variance explained in your model?\n"
   ]
  },
  {
   "cell_type": "code",
   "execution_count": 24,
   "metadata": {},
   "outputs": [
    {
     "data": {
      "text/plain": [
       "0.20226366359926984"
      ]
     },
     "execution_count": 24,
     "metadata": {},
     "output_type": "execute_result"
    }
   ],
   "source": [
    "r_model = ess_model / tss_model\n",
    "r_model"
   ]
  },
  {
   "cell_type": "code",
   "execution_count": 25,
   "metadata": {},
   "outputs": [
    {
     "name": "stdout",
     "output_type": "stream",
     "text": [
      "R-squared =  0.202\n",
      "Percent of variance in y explained by x =  20.2 %\n"
     ]
    }
   ],
   "source": [
    "print('R-squared = ',round(r_model,3))\n",
    "print(\"Percent of variance in y explained by x = \", round(r_model*100,1), \"%\")"
   ]
  },
  {
   "cell_type": "code",
   "execution_count": 26,
   "metadata": {},
   "outputs": [
    {
     "name": "stdout",
     "output_type": "stream",
     "text": [
      "Explained Variance =  0.202\n"
     ]
    }
   ],
   "source": [
    "# Alternate method to calculate R^2 using sklearn explained_variance_score\n",
    "evs = explained_variance_score(preds.y_actual, preds.y_hat)\n",
    "print('Explained Variance = ', round(evs,3))"
   ]
  },
  {
   "cell_type": "markdown",
   "metadata": {},
   "source": [
    "<div class=\"alert alert-block alert-info\">\n",
    "\n",
    "8. Is your model better than the baseline model?\n",
    "\n",
    "\n"
   ]
  },
  {
   "cell_type": "markdown",
   "metadata": {},
   "source": [
    "Yes\n",
    "\n",
    "SSE of our finely tuned model: 552302163507662976 beat the baseline 718634826417065600"
   ]
  },
  {
   "cell_type": "markdown",
   "metadata": {},
   "source": [
    "<div class=\"alert alert-block alert-info\">\n",
    "\n",
    "9. Create a file named evaluate.py that contains the following functions.\n",
    "    * plot_residuals(y, yhat): creates a residual plot\n",
    "        * regression_errors(y, yhat): returns the following values:\n",
    "        * sum of squared errors (SSE)\n",
    "        * explained sum of squares (ESS)\n",
    "        * total sum of squares (TSS)\n",
    "        * mean squared error (MSE)\n",
    "        * root mean squared error (RMSE)\n",
    "    * baseline_mean_errors(y): computes the SSE, MSE, and RMSE for the baseline model\n",
    "    * better_than_baseline(y, yhat): returns true if your model performs better than the baseline, otherwise false"
   ]
  },
  {
   "cell_type": "code",
   "execution_count": 27,
   "metadata": {},
   "outputs": [],
   "source": [
    "X_train, y_train, X_val, y_va = create_model(train, val)"
   ]
  },
  {
   "cell_type": "code",
   "execution_count": 28,
   "metadata": {},
   "outputs": [],
   "source": [
    "preds, lr = dataframe_model(X_train, y_train)"
   ]
  },
  {
   "cell_type": "code",
   "execution_count": 29,
   "metadata": {},
   "outputs": [
    {
     "data": {
      "image/png": "[encoded data removed]",
      "text/plain": [
       "<Figure size 640x480 with 1 Axes>"
      ]
     },
     "metadata": {},
     "output_type": "display_data"
    }
   ],
   "source": [
    "plot_residuals(preds)"
   ]
  },
  {
   "cell_type": "code",
   "execution_count": 30,
   "metadata": {},
   "outputs": [
    {
     "name": "stdout",
     "output_type": "stream",
     "text": [
      "SSE:552302163507662976.000, ESS:140034562683812352.000, TSS:692336726191475328.000, RMSE:607167.747\n"
     ]
    }
   ],
   "source": [
    "sse_model, ess_model, tss_model, rmse_model = regression_errors(preds)"
   ]
  },
  {
   "cell_type": "code",
   "execution_count": 31,
   "metadata": {},
   "outputs": [
    {
     "name": "stdout",
     "output_type": "stream",
     "text": [
      "SSE:718634826417065600.000, ESS:26298100225424732.000, TSS:744932926642490368.000, RMSE:692587.185\n"
     ]
    }
   ],
   "source": [
    "sse_baseline, ess_baseline, tss_baseline, rmse_baseline = baseline_mean_errors(preds)"
   ]
  },
  {
   "cell_type": "code",
   "execution_count": 32,
   "metadata": {},
   "outputs": [
    {
     "name": "stdout",
     "output_type": "stream",
     "text": [
      "Good, SSE of our finely tuned model: 552302163507662976 beat the baseline 718634826417065600\n"
     ]
    }
   ],
   "source": [
    "better_than_baseline(preds)"
   ]
  },
  {
   "cell_type": "code",
   "execution_count": null,
   "metadata": {},
   "outputs": [],
   "source": []
  },
  {
   "cell_type": "code",
   "execution_count": null,
   "metadata": {},
   "outputs": [],
   "source": []
  }
 ],
 "metadata": {
  "kernelspec": {
   "display_name": "base",
   "language": "python",
   "name": "python3"
  },
  "language_info": {
   "codemirror_mode": {
    "name": "ipython",
    "version": 3
   },
   "file_extension": ".py",
   "mimetype": "text/x-python",
   "name": "python",
   "nbconvert_exporter": "python",
   "pygments_lexer": "ipython3",
   "version": "3.10.12"
  },
  "orig_nbformat": 4
 },
 "nbformat": 4,
 "nbformat_minor": 2
}
